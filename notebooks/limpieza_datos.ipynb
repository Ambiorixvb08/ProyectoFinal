{
 "cells": [
  {
   "cell_type": "code",
   "execution_count": 2,
   "id": "a598b27e",
   "metadata": {},
   "outputs": [],
   "source": [
    "import pandas as pd\n",
    "import numpy as np\n",
    "import os   \n"
   ]
  },
  {
   "cell_type": "markdown",
   "id": "f2750030",
   "metadata": {},
   "source": [
    "Transporte Publico Madrid:"
   ]
  },
  {
   "cell_type": "code",
   "execution_count": 24,
   "id": "2d343451",
   "metadata": {},
   "outputs": [
    {
     "name": "stdout",
     "output_type": "stream",
     "text": [
      "Columnas disponibles: Index(['TIPO DE TRANSPORTE', 'Ciudad', 'Viajeros y tasas', 'Periodo', 'Total'], dtype='object')\n"
     ]
    }
   ],
   "source": [
    "# Leer el archivo de transporte publico madrid\n",
    "tpm = pd.read_csv(\n",
    "    \"../data/raw/20193_transporte_publico_madrid.csv\",\n",
    "    sep=\";\",  \n",
    "    encoding=\"utf-8-sig\"  \n",
    ")\n",
    "\n",
    "print(\"Columnas disponibles:\", tpm.columns)"
   ]
  },
  {
   "cell_type": "code",
   "execution_count": 13,
   "id": "e7c0a6da",
   "metadata": {},
   "outputs": [
    {
     "name": "stdout",
     "output_type": "stream",
     "text": [
      "Index(['ï»¿tipo_de_transporte', 'ciudad', 'viajeros_y_tasas', 'periodo',\n",
      "       'total'],\n",
      "      dtype='object')\n"
     ]
    }
   ],
   "source": [
    "# Normalizamos nombre de las tablas:\n",
    "tpm.columns = (\n",
    "    tpm.columns\n",
    "    .str.strip()          # quita espacios al inicio/fin\n",
    "    .str.lower()          # minúsculas\n",
    "    .str.replace(\" \", \"_\")  # espacios -> guiones bajos\n",
    "    .str.replace(\"ó\", \"o\")  # opcional: quitar acentos\n",
    ")\n",
    "\n",
    "print(tpm.columns)\n",
    "\n",
    "# Filtrar solo Madrid\n",
    "tpm_madrid = tpm[tpm[\"ciudad\"] == \"28079 Madrid\"].copy()\n",
    "\n"
   ]
  },
  {
   "cell_type": "code",
   "execution_count": null,
   "id": "d7c94056",
   "metadata": {},
   "outputs": [
    {
     "name": "stdout",
     "output_type": "stream",
     "text": [
      "ï»¿tipo_de_transporte      0\n",
      "ciudad                     0\n",
      "viajeros_y_tasas           0\n",
      "periodo                    0\n",
      "total                    408\n",
      "dtype: int64\n",
      "ï»¿tipo_de_transporte    object\n",
      "ciudad                   object\n",
      "viajeros_y_tasas         object\n",
      "periodo                  object\n",
      "total                    object\n",
      "dtype: object\n"
     ]
    }
   ],
   "source": [
    "# Revisar datos nulos\n",
    "print(tpm.isnull().sum())\n",
    "\n",
    "# Revisar tipo de datos por columna\n",
    "print(tpm.dtypes)\n",
    "\n"
   ]
  },
  {
   "cell_type": "code",
   "execution_count": 15,
   "id": "ad322cb0",
   "metadata": {},
   "outputs": [
    {
     "name": "stdout",
     "output_type": "stream",
     "text": [
      "                      ï»¿tipo_de_transporte        ciudad  \\\n",
      "972  Transporte urbano regular por autobÃºs  28079 Madrid   \n",
      "973  Transporte urbano regular por autobÃºs  28079 Madrid   \n",
      "974  Transporte urbano regular por autobÃºs  28079 Madrid   \n",
      "975  Transporte urbano regular por autobÃºs  28079 Madrid   \n",
      "976  Transporte urbano regular por autobÃºs  28079 Madrid   \n",
      "\n",
      "           viajeros_y_tasas periodo   total  \n",
      "972  Viajeros transportados     NaT  47.559  \n",
      "973  Viajeros transportados     NaT  43.701  \n",
      "974  Viajeros transportados     NaT  40.455  \n",
      "975  Viajeros transportados     NaT  43.739  \n",
      "976  Viajeros transportados     NaT  41.487  \n"
     ]
    }
   ],
   "source": [
    "# Convertir columna 'Total' a numérica\n",
    "tpm_madrid[\"total\"] = pd.to_numeric(tpm_madrid[\"total\"], errors=\"coerce\")\n",
    "\n",
    "# Transformar 'Periodo' a fecha real (primer día del mes)\n",
    "tpm_madrid[\"periodo\"] = pd.to_datetime(\n",
    "    tpm_madrid[\"periodo\"].str.replace(\"M\", \"\"),\n",
    "    format=\"%YM%m\",\n",
    "    errors=\"coerce\"\n",
    ")\n",
    "\n",
    "print(tpm_madrid.head())\n"
   ]
  },
  {
   "cell_type": "markdown",
   "id": "3902f271",
   "metadata": {},
   "source": [
    "Accidentes:"
   ]
  },
  {
   "cell_type": "code",
   "execution_count": 17,
   "id": "a2e2d3f6",
   "metadata": {},
   "outputs": [
    {
     "name": "stdout",
     "output_type": "stream",
     "text": [
      "Columnas: Index(['num_expediente', 'fecha', 'hora', 'localizacion', 'numero',\n",
      "       'cod_distrito', 'distrito', 'tipo_accidente', 'estado_meteorológico',\n",
      "       'tipo_vehiculo', 'tipo_persona', 'rango_edad', 'sexo', 'cod_lesividad',\n",
      "       'lesividad', 'coordenada_x_utm', 'coordenada_y_utm', 'positiva_alcohol',\n",
      "       'positiva_droga'],\n",
      "      dtype='object')\n",
      "Dimensiones: (29653, 19)\n",
      "  num_expediente       fecha     hora  \\\n",
      "0    2025S000056  01/01/2025  0:49:00   \n",
      "1    2025S000056  01/01/2025  0:49:00   \n",
      "2    2025S000056  01/01/2025  0:49:00   \n",
      "3    2025S000057  01/01/2025  2:20:00   \n",
      "4    2025S000057  01/01/2025  2:20:00   \n",
      "\n",
      "                                 localizacion numero  cod_distrito  \\\n",
      "0   CALL. LOPEZ DE HOYOS / CALL. ROS DE OLANO    140             5   \n",
      "1   CALL. LOPEZ DE HOYOS / CALL. ROS DE OLANO    140             5   \n",
      "2   CALL. LOPEZ DE HOYOS / CALL. ROS DE OLANO    140             5   \n",
      "3  GTA. RIO ZANCARA / CALL. ARROYO DE POZUELO      1             9   \n",
      "4  GTA. RIO ZANCARA / CALL. ARROYO DE POZUELO      1             9   \n",
      "\n",
      "          distrito           tipo_accidente estado_meteorológico  \\\n",
      "0        CHAMARTÍN  Colisión fronto-lateral            Despejado   \n",
      "1        CHAMARTÍN  Colisión fronto-lateral            Despejado   \n",
      "2        CHAMARTÍN  Colisión fronto-lateral            Despejado   \n",
      "3  MONCLOA-ARAVACA         Colisión lateral            Despejado   \n",
      "4  MONCLOA-ARAVACA         Colisión lateral            Despejado   \n",
      "\n",
      "  tipo_vehiculo tipo_persona       rango_edad    sexo  cod_lesividad  \\\n",
      "0    Ciclomotor    Conductor  De 30 a 34 años  Hombre            7.0   \n",
      "1       Turismo    Conductor  De 40 a 44 años  Hombre           14.0   \n",
      "2       Turismo     Pasajero  De 40 a 44 años   Mujer           14.0   \n",
      "3       Turismo    Conductor  De 21 a 24 años  Hombre            NaN   \n",
      "4       Turismo    Conductor  De 45 a 49 años  Hombre            NaN   \n",
      "\n",
      "                                           lesividad  coordenada_x_utm  \\\n",
      "0  Asistencia sanitaria sólo en el lugar del acci...          442966.0   \n",
      "1                           Sin asistencia sanitaria          442966.0   \n",
      "2                           Sin asistencia sanitaria          442966.0   \n",
      "3                                                NaN          433911.0   \n",
      "4                                                NaN          433911.0   \n",
      "\n",
      "   coordenada_y_utm positiva_alcohol  positiva_droga  \n",
      "0         4477385.0                N             NaN  \n",
      "1         4477385.0                N             NaN  \n",
      "2         4477385.0                N             NaN  \n",
      "3         4478290.0                N             NaN  \n",
      "4         4478290.0                N             NaN  \n"
     ]
    }
   ],
   "source": [
    "# Cargar dataset de accidentalidad\n",
    "accidentes = pd.read_csv(\n",
    "    \"../data/raw/2025_Accidentalidad.csv\", \n",
    "    sep=\";\",             # muchos CSV de datos abiertos usan ;\n",
    "    encoding=\"utf-8-sig\" # para evitar problemas de tildes\n",
    ")\n",
    "\n",
    "# Ver columnas disponibles\n",
    "print(\"Columnas:\", accidentes.columns)\n",
    "print(\"Dimensiones:\", accidentes.shape)\n",
    "print(accidentes.head())"
   ]
  },
  {
   "cell_type": "code",
   "execution_count": 18,
   "id": "b1e6f5b6",
   "metadata": {},
   "outputs": [
    {
     "name": "stdout",
     "output_type": "stream",
     "text": [
      "num_expediente              0\n",
      "fecha                       0\n",
      "hora                        0\n",
      "localizacion                0\n",
      "numero                      0\n",
      "cod_distrito                0\n",
      "distrito                    0\n",
      "tipo_accidente              4\n",
      "estado_meteorologico     3423\n",
      "tipo_vehiculo             241\n",
      "tipo_persona                0\n",
      "rango_edad                  0\n",
      "sexo                        0\n",
      "cod_lesividad           13073\n",
      "lesividad               13073\n",
      "coordenada_x_utm           18\n",
      "coordenada_y_utm           18\n",
      "positiva_alcohol          115\n",
      "positiva_droga          29575\n",
      "dtype: int64\n",
      "num_expediente           0.000000\n",
      "fecha                    0.000000\n",
      "hora                     0.000000\n",
      "localizacion             0.000000\n",
      "numero                   0.000000\n",
      "cod_distrito             0.000000\n",
      "distrito                 0.000000\n",
      "tipo_accidente           0.013489\n",
      "estado_meteorologico    11.543520\n",
      "tipo_vehiculo            0.812734\n",
      "tipo_persona             0.000000\n",
      "rango_edad               0.000000\n",
      "sexo                     0.000000\n",
      "cod_lesividad           44.086602\n",
      "lesividad               44.086602\n",
      "coordenada_x_utm         0.060702\n",
      "coordenada_y_utm         0.060702\n",
      "positiva_alcohol         0.387819\n",
      "positiva_droga          99.736957\n",
      "dtype: float64\n",
      "Duplicados: 1195\n"
     ]
    }
   ],
   "source": [
    "# Normalizamos columnas:\n",
    "accidentes.columns = (\n",
    "    accidentes.columns\n",
    "    .str.strip()\n",
    "    .str.lower()\n",
    "    .str.replace(\" \", \"_\")\n",
    "    .str.replace(\"ó\", \"o\")\n",
    "    .str.replace(\"í\", \"i\")\n",
    "    .str.replace(\"á\", \"a\")\n",
    "    .str.replace(\"é\", \"e\")\n",
    "    .str.replace(\"ú\", \"u\")\n",
    ")\n",
    "\n",
    "# Nulos\n",
    "print(accidentes.isnull().sum())\n",
    "\n",
    "# Porcentaje de nulos\n",
    "print(accidentes.isnull().mean()*100)\n",
    "\n",
    "# Duplicados\n",
    "print(\"Duplicados:\", accidentes.duplicated().sum())\n",
    "accidentes = accidentes.drop_duplicates()\n",
    "\n",
    "# Convertir fecha a datetime\n",
    "accidentes[\"fecha\"] = pd.to_datetime(accidentes[\"fecha\"], format=\"%d/%m/%Y\", errors=\"coerce\")\n",
    "\n",
    "# Convertir hora\n",
    "accidentes[\"hora\"] = pd.to_datetime(accidentes[\"hora\"], format=\"%H:%M:%S\", errors=\"coerce\").dt.time"
   ]
  },
  {
   "cell_type": "code",
   "execution_count": 19,
   "id": "16beb626",
   "metadata": {},
   "outputs": [],
   "source": [
    "# 1. Eliminar filas con nulos críticos (tipo_accidente es clave)\n",
    "accidentes = accidentes.dropna(subset=[\"tipo_accidente\"])\n"
   ]
  },
  {
   "cell_type": "code",
   "execution_count": 20,
   "id": "396d53f6",
   "metadata": {},
   "outputs": [],
   "source": [
    "# 2. Rellenar valores faltantes con categorías claras\n",
    "accidentes[\"estado_meteorologico\"] = accidentes[\"estado_meteorologico\"].fillna(\"desconocido\")\n",
    "accidentes[\"tipo_vehiculo\"] = accidentes[\"tipo_vehiculo\"].fillna(\"sin_especificar\")\n",
    "accidentes[\"lesividad\"] = accidentes[\"lesividad\"].fillna(\"sin_lesion\")\n",
    "accidentes[\"cod_lesividad\"] = accidentes[\"cod_lesividad\"].fillna(-1)"
   ]
  },
  {
   "cell_type": "code",
   "execution_count": 21,
   "id": "cbc6b55c",
   "metadata": {},
   "outputs": [],
   "source": [
    "# 4. Alcohol y droga → convertir a binario (S=1, N=0)\n",
    "accidentes[\"positiva_alcohol\"] = accidentes[\"positiva_alcohol\"].map({\"S\": 1, \"N\": 0})\n",
    "accidentes[\"positiva_alcohol\"] = accidentes[\"positiva_alcohol\"].fillna(0)  # si hay nulos → asumimos no positivo"
   ]
  },
  {
   "cell_type": "code",
   "execution_count": 22,
   "id": "dda2dd79",
   "metadata": {},
   "outputs": [],
   "source": [
    "# 5. Droga → demasiado nulo, mejor eliminar la columna\n",
    "accidentes = accidentes.drop(columns=[\"positiva_droga\"])"
   ]
  },
  {
   "cell_type": "markdown",
   "id": "358cffda",
   "metadata": {},
   "source": [
    "Unión de Datasets"
   ]
  },
  {
   "cell_type": "code",
   "execution_count": null,
   "id": "6b988dbe",
   "metadata": {},
   "outputs": [
    {
     "name": "stdout",
     "output_type": "stream",
     "text": [
      "Empty DataFrame\n",
      "Columns: [CCAA, Año, Precio_Indice, Tipo, Sector, Salario_Medio]\n",
      "Index: []\n"
     ]
    }
   ],
   "source": []
  }
 ],
 "metadata": {
  "kernelspec": {
   "display_name": "Python 3",
   "language": "python",
   "name": "python3"
  },
  "language_info": {
   "codemirror_mode": {
    "name": "ipython",
    "version": 3
   },
   "file_extension": ".py",
   "mimetype": "text/x-python",
   "name": "python",
   "nbconvert_exporter": "python",
   "pygments_lexer": "ipython3",
   "version": "3.13.2"
  }
 },
 "nbformat": 4,
 "nbformat_minor": 5
}
